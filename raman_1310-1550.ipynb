{
 "cells": [
  {
   "cell_type": "code",
   "execution_count": 1,
   "metadata": {},
   "outputs": [],
   "source": [
    "import numpy as np\n",
    "import matplotlib.pyplot as plt\n",
    "import glob,os, re\n",
    "from matplotlib.ticker import FormatStrFormatter\n",
    "from tkinter import filedialog\n",
    "from tkinter import *\n",
    "import tkinter as tk\n",
    "from mpl_toolkits.mplot3d import Axes3D\n",
    "import matplotlib.cm as cm           # import colormap stuff!\n",
    "import pandas as pd\n",
    "import scipy.constants as consts\n"
   ]
  },
  {
   "cell_type": "code",
   "execution_count": 6,
   "metadata": {},
   "outputs": [
    {
     "data": {
      "text/plain": [
       "0.251188643150958"
      ]
     },
     "execution_count": 6,
     "metadata": {},
     "output_type": "execute_result"
    }
   ],
   "source": [
    "os.chdir(r'\\\\192.168.1.101\\Documents\\Marcello\\Padova\\Raman_1310-1550\\\\')\n",
    "\n",
    "conv_factor = 2.8*1e13 #[Hz/mW] coversion factor counts CCD\n",
    "int_time = 0.1 #[s]\n",
    "losses_db = 6\n",
    "losses_lin = 10**(-losses_db/10)\n",
    "\n",
    "counts_raw = np.loadtxt('csdacsd')\n",
    "wl = np.loadtxt('csdacsd')\n",
    "\n",
    "rate = counts_raw/int_time/conv_factor * losses_lin * 1e-3/(consts.h*consts.c/(wl*1e-9)) "
   ]
  }
 ],
 "metadata": {
  "kernelspec": {
   "display_name": "base",
   "language": "python",
   "name": "python3"
  },
  "language_info": {
   "codemirror_mode": {
    "name": "ipython",
    "version": 3
   },
   "file_extension": ".py",
   "mimetype": "text/x-python",
   "name": "python",
   "nbconvert_exporter": "python",
   "pygments_lexer": "ipython3",
   "version": "3.10.9"
  }
 },
 "nbformat": 4,
 "nbformat_minor": 2
}
